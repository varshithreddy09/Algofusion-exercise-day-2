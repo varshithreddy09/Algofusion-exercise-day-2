{
 "cells": [
  {
   "cell_type": "code",
   "execution_count": null,
   "id": "8b2958b3",
   "metadata": {},
   "outputs": [],
   "source": []
  },
  {
   "cell_type": "code",
   "execution_count": 7,
   "id": "cedc97fa",
   "metadata": {},
   "outputs": [
    {
     "name": "stdout",
     "output_type": "stream",
     "text": [
      "Text without punctuation: Wildfires continue to spread across the western region devastating vast areas and leading to mass evacuations Authorities are struggling to contain the flames as strong winds and dry conditions persist Thousands of residents have been displaced and homes businesses and natural habitats have been destroyed Firefighters and emergency response teams are working around the clock to battle the infernos The situation is critical and authorities are urging people to remain vigilant and heed evacuation orders to ensure their safety The scale of these wildfires poses significant challenges and additional resources and support are being mobilized to combat the ongoing crisis\n",
      "Words in the text: ['Wildfires', 'continue', 'to', 'spread', 'across', 'the', 'western', 'region,', 'devastating', 'vast', 'areas', 'and', 'leading', 'to', 'mass', 'evacuations.', 'Authorities', 'are', 'struggling', 'to', 'contain', 'the', 'flames', 'as', 'strong', 'winds', 'and', 'dry', 'conditions', 'persist.', 'Thousands', 'of', 'residents', 'have', 'been', 'displaced,', 'and', 'homes,', 'businesses,', 'and', 'natural', 'habitats', 'have', 'been', 'destroyed.', 'Firefighters', 'and', 'emergency', 'response', 'teams', 'are', 'working', 'around', 'the', 'clock', 'to', 'battle', 'the', 'infernos.', 'The', 'situation', 'is', 'critical,', 'and', 'authorities', 'are', 'urging', 'people', 'to', 'remain', 'vigilant', 'and', 'heed', 'evacuation', 'orders', 'to', 'ensure', 'their', 'safety.', 'The', 'scale', 'of', 'these', 'wildfires', 'poses', 'significant', 'challenges,', 'and', 'additional', 'resources', 'and', 'support', 'are', 'being', 'mobilized', 'to', 'combat', 'the', 'ongoing', 'crisis.']\n",
      "Word count: {'Wildfires': 1, 'continue': 1, 'to': 7, 'spread': 1, 'across': 1, 'the': 5, 'western': 1, 'region,': 1, 'devastating': 1, 'vast': 1, 'areas': 1, 'and': 9, 'leading': 1, 'mass': 1, 'evacuations.': 1, 'Authorities': 1, 'are': 4, 'struggling': 1, 'contain': 1, 'flames': 1, 'as': 1, 'strong': 1, 'winds': 1, 'dry': 1, 'conditions': 1, 'persist.': 1, 'Thousands': 1, 'of': 2, 'residents': 1, 'have': 2, 'been': 2, 'displaced,': 1, 'homes,': 1, 'businesses,': 1, 'natural': 1, 'habitats': 1, 'destroyed.': 1, 'Firefighters': 1, 'emergency': 1, 'response': 1, 'teams': 1, 'working': 1, 'around': 1, 'clock': 1, 'battle': 1, 'infernos.': 1, 'The': 2, 'situation': 1, 'is': 1, 'critical,': 1, 'authorities': 1, 'urging': 1, 'people': 1, 'remain': 1, 'vigilant': 1, 'heed': 1, 'evacuation': 1, 'orders': 1, 'ensure': 1, 'their': 1, 'safety.': 1, 'scale': 1, 'these': 1, 'wildfires': 1, 'poses': 1, 'significant': 1, 'challenges,': 1, 'additional': 1, 'resources': 1, 'support': 1, 'being': 1, 'mobilized': 1, 'combat': 1, 'ongoing': 1, 'crisis.': 1}\n",
      "         word  No of occurrences\n",
      "0   Wildfires                  1\n",
      "1    continue                  1\n",
      "2          to                  7\n",
      "3      spread                  1\n",
      "4      across                  1\n",
      "..        ...                ...\n",
      "70      being                  1\n",
      "71  mobilized                  1\n",
      "72     combat                  1\n",
      "73    ongoing                  1\n",
      "74    crisis.                  1\n",
      "\n",
      "[75 rows x 2 columns]\n"
     ]
    }
   ],
   "source": [
    "# main.py\n",
    "\n",
    "import word_count\n",
    "\n",
    "if __name__ == \"__main__\":\n",
    "    \n",
    "    input_text = \"Wildfires continue to spread across the western region, devastating vast areas and leading to mass evacuations. Authorities are struggling to contain the flames as strong winds and dry conditions persist. Thousands of residents have been displaced, and homes, businesses, and natural habitats have been destroyed. Firefighters and emergency response teams are working around the clock to battle the infernos. The situation is critical, and authorities are urging people to remain vigilant and heed evacuation orders to ensure their safety. The scale of these wildfires poses significant challenges, and additional resources and support are being mobilized to combat the ongoing crisis.\"\n",
    "    \n",
    "    # Removing punctuation\n",
    "    text_without_punc = word_count.remove_punc(input_text)\n",
    "    print(\"Text without punctuation:\", text_without_punc)\n",
    "\n",
    "    # Splitting the text into words\n",
    "    words = word_count.word_split(input_text)\n",
    "    print(\"Words in the text:\", words)\n",
    "\n",
    "    # Counting the number of words\n",
    "    word_count_result = word_count.word_dict(words)\n",
    "    print(\"Word count:\", word_count_result)\n",
    "    \n",
    "    # Creating the dataframe \n",
    "    df = word_count.word_freq_table(word_count_result)\n",
    "    print(df)\n"
   ]
  },
  {
   "cell_type": "code",
   "execution_count": null,
   "id": "f269e44d",
   "metadata": {},
   "outputs": [],
   "source": []
  },
  {
   "cell_type": "code",
   "execution_count": null,
   "id": "9dc172cf",
   "metadata": {},
   "outputs": [],
   "source": []
  },
  {
   "cell_type": "code",
   "execution_count": null,
   "id": "79df8781",
   "metadata": {},
   "outputs": [],
   "source": []
  }
 ],
 "metadata": {
  "kernelspec": {
   "display_name": "Python 3 (ipykernel)",
   "language": "python",
   "name": "python3"
  },
  "language_info": {
   "codemirror_mode": {
    "name": "ipython",
    "version": 3
   },
   "file_extension": ".py",
   "mimetype": "text/x-python",
   "name": "python",
   "nbconvert_exporter": "python",
   "pygments_lexer": "ipython3",
   "version": "3.10.9"
  }
 },
 "nbformat": 4,
 "nbformat_minor": 5
}
